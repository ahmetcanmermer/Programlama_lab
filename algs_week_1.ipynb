{
 "cells": [
  {
   "cell_type": "code",
   "execution_count": 7,
   "metadata": {},
   "outputs": [],
   "source": [
    "import random"
   ]
  },
  {
   "cell_type": "code",
   "execution_count": 8,
   "metadata": {},
   "outputs": [
    {
     "data": {
      "text/plain": [
       "[84, 77, 69, 70, 61, 99, 62, 83, 84, 76]"
      ]
     },
     "execution_count": 8,
     "metadata": {},
     "output_type": "execute_result"
    }
   ],
   "source": [
    "def get_n_random_number(n,min_,max_):\n",
    "    numbers = []\n",
    "    for i in range(0,n):\n",
    "        numbers.append(random.randint(min_,max_))\n",
    "    return numbers\n",
    "get_n_random_number(10,50,100)\n"
   ]
  },
  {
   "cell_type": "code",
   "execution_count": 9,
   "metadata": {},
   "outputs": [],
   "source": [
    "def my_frequency_with_dict(list):\n",
    "    frequency_dict = {}\n",
    "    for item in list:\n",
    "        if(item in frequency_dict):\n",
    "            frequency_dict[item] = frequency_dict[item]+1\n",
    "        else:\n",
    "            frequency_dict[item] = 1\n",
    "        return frequency_dict\n"
   ]
  },
  {
   "cell_type": "code",
   "execution_count": 22,
   "metadata": {},
   "outputs": [],
   "source": [
    "def my_frequency_with_list_of_tuples(list_1):\n",
    "    liste = []\n",
    "    for i in range(len(list_1)):\n",
    "        s = False\n",
    "        for j in range(len(liste)):\n",
    "            if(list_1(i)==liste[j][0]):\n",
    "                liste[j][1] == liste[j][1]+1\n",
    "                s = True\n",
    "            if(s==False):\n",
    "                liste.append([list_1,1])\n",
    "    return liste\n"
   ]
  },
  {
   "cell_type": "code",
   "execution_count": 11,
   "metadata": {},
   "outputs": [],
   "source": [
    "liste = get_n_random_number(15,0,50)"
   ]
  },
  {
   "cell_type": "code",
   "execution_count": 12,
   "metadata": {},
   "outputs": [
    {
     "name": "stdout",
     "output_type": "stream",
     "text": [
      "[16, 19, 26, 37, 8, 5, 10, 30, 43, 2, 4, 21, 1, 49, 48]\n"
     ]
    }
   ],
   "source": [
    "print(liste)"
   ]
  },
  {
   "cell_type": "code",
   "execution_count": 13,
   "metadata": {},
   "outputs": [
    {
     "data": {
      "text/plain": [
       "[1, 2, 4, 5, 8, 10, 16, 19, 21, 26, 30, 37, 43, 48, 49]"
      ]
     },
     "execution_count": 13,
     "metadata": {},
     "output_type": "execute_result"
    }
   ],
   "source": [
    "sorted(liste)"
   ]
  },
  {
   "cell_type": "code",
   "execution_count": 14,
   "metadata": {},
   "outputs": [],
   "source": [
    "freq = my_frequency_with_dict(liste)"
   ]
  },
  {
   "cell_type": "code",
   "execution_count": 15,
   "metadata": {},
   "outputs": [
    {
     "name": "stdout",
     "output_type": "stream",
     "text": [
      "{16: 1}\n"
     ]
    }
   ],
   "source": [
    "print(freq)"
   ]
  },
  {
   "cell_type": "code",
   "execution_count": 16,
   "metadata": {},
   "outputs": [],
   "source": [
    "def hash_mode_dict(hist):\n",
    "    max_freq = -1\n",
    "    mode = -1\n",
    "    for key in hist.keys():\n",
    "        print(key,hist[key])\n",
    "        if(hist[key]>max_freq):\n",
    "            max_freq = hist[key]\n",
    "            mode = key\n",
    "    return mode,max_freq"
   ]
  },
  {
   "cell_type": "code",
   "execution_count": 17,
   "metadata": {},
   "outputs": [],
   "source": [
    "list_1 = get_n_random_number(10,-5,5)"
   ]
  },
  {
   "cell_type": "code",
   "execution_count": 18,
   "metadata": {},
   "outputs": [],
   "source": [
    "hist_1 = my_frequency_with_dict(list_1)"
   ]
  },
  {
   "cell_type": "code",
   "execution_count": 23,
   "metadata": {},
   "outputs": [],
   "source": [
    "hist_2 = my_frequency_with_list_of_tuples(list_1)"
   ]
  },
  {
   "cell_type": "code",
   "execution_count": 25,
   "metadata": {},
   "outputs": [
    {
     "name": "stdout",
     "output_type": "stream",
     "text": [
      "0 1\n",
      "(0, 1)\n"
     ]
    }
   ],
   "source": [
    "print(hash_mode_dict(hist_1))"
   ]
  },
  {
   "cell_type": "code",
   "execution_count": 26,
   "metadata": {},
   "outputs": [],
   "source": [
    "def mode_with_list(hist_list):\n",
    "    max_freq = -1\n",
    "    mode = -1\n",
    "    for item,freq in hist_list:\n",
    "        print(item,freq)\n",
    "        if(feq>max_freq):\n",
    "            max_freq = freq\n",
    "            mode = item\n",
    "    return mode,max_freq"
   ]
  },
  {
   "cell_type": "code",
   "execution_count": 27,
   "metadata": {},
   "outputs": [],
   "source": [
    "hist_1 = my_frequency_with_list_of_tuples(hist_1)"
   ]
  },
  {
   "cell_type": "code",
   "execution_count": 28,
   "metadata": {},
   "outputs": [
    {
     "name": "stdout",
     "output_type": "stream",
     "text": [
      "(-1, -1)\n"
     ]
    }
   ],
   "source": [
    "print(mode_with_list(hist_1))"
   ]
  },
  {
   "cell_type": "code",
   "execution_count": 29,
   "metadata": {},
   "outputs": [],
   "source": [
    "def lineer_search(list_,item):\n",
    "    found = (-1,1)\n",
    "    n = len(list_)\n",
    "    for i in range(n):\n",
    "        if list_[i] == item:\n",
    "            found = (list[i],i)\n",
    "    return found"
   ]
  },
  {
   "cell_type": "code",
   "execution_count": 30,
   "metadata": {},
   "outputs": [],
   "source": [
    "def my_mean():\n",
    "    s,t=0,0\n",
    "    for item in list:\n",
    "        s += 1\n",
    "        t += item\n",
    "    mean_ = t/s\n",
    "    return mean_"
   ]
  },
  {
   "cell_type": "code",
   "execution_count": 31,
   "metadata": {},
   "outputs": [],
   "source": [
    "def bubble_sort(list_):\n",
    "    n = len(list_)\n",
    "    for i in range(n-1,-1,-1):\n",
    "        for j in range(0,i):\n",
    "            if(list_[j]>list_[j+1]):\n",
    "                temp = list_[j]\n",
    "                list_[j] = list_[j+1]\n",
    "                list_[j+1] = temp\n",
    "    return list_\n",
    "                "
   ]
  },
  {
   "cell_type": "code",
   "execution_count": 32,
   "metadata": {},
   "outputs": [],
   "source": [
    "def my_median(list_):\n",
    "    list_1 = bubble_sort(list_)\n",
    "    n = len(list_)\n",
    "    if(n%2==1):\n",
    "        median = list_[n//2]\n",
    "    else:\n",
    "        median_1 = list_[n//2-1]\n",
    "        median_2 = list_[n//2]\n",
    "        median = (median_1+median_2)/2\n",
    "    return median"
   ]
  },
  {
   "cell_type": "code",
   "execution_count": null,
   "metadata": {},
   "outputs": [],
   "source": []
  }
 ],
 "metadata": {
  "kernelspec": {
   "display_name": "Python 3",
   "language": "python",
   "name": "python3"
  },
  "language_info": {
   "codemirror_mode": {
    "name": "ipython",
    "version": 3
   },
   "file_extension": ".py",
   "mimetype": "text/x-python",
   "name": "python",
   "nbconvert_exporter": "python",
   "pygments_lexer": "ipython3",
   "version": "3.7.0"
  }
 },
 "nbformat": 4,
 "nbformat_minor": 2
}
