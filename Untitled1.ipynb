{
 "cells": [
  {
   "cell_type": "code",
   "execution_count": 3,
   "metadata": {},
   "outputs": [],
   "source": [
    "import random"
   ]
  },
  {
   "cell_type": "code",
   "execution_count": 4,
   "metadata": {},
   "outputs": [
    {
     "data": {
      "text/plain": [
       "[93, 65, 89, 65, 85, 62, 51, 100, 60, 55]"
      ]
     },
     "execution_count": 4,
     "metadata": {},
     "output_type": "execute_result"
    }
   ],
   "source": [
    "def get_n_random_number(n,min_,max_):\n",
    "    numbers = []\n",
    "    for i in range(0,n):\n",
    "        numbers.append(random.randint(min_,max_))\n",
    "    return numbers\n",
    "get_n_random_number(10,50,100)\n"
   ]
  },
  {
   "cell_type": "code",
   "execution_count": 15,
   "metadata": {},
   "outputs": [],
   "source": [
    "def my_frequency_with_dict(list):\n",
    "    frequency_dict = {}\n",
    "    for item in list:\n",
    "        if(item in frequency_dict):\n",
    "            frequency_dict[item] = frequency_dict[item]+1\n",
    "        else:\n",
    "            frequency_dict[item] = 1\n",
    "        return frequency_dict\n"
   ]
  },
  {
   "cell_type": "code",
   "execution_count": null,
   "metadata": {},
   "outputs": [],
   "source": [
    "def my_freauency_list_with_of_tuples(list_1):\n",
    "    liste = []\n",
    "    for i in range(len(list_1)):\n",
    "        s = False\n",
    "        for j in range(len(liste)):\n",
    "            if(list_1(i)==liste[j][0]):\n",
    "                liste[j][1] == liste[j][1]+1\n",
    "                s = True\n",
    "            if(s==False):\n",
    "                liste.append([list_1,1])\n",
    "    return liste\n"
   ]
  },
  {
   "cell_type": "code",
   "execution_count": 8,
   "metadata": {},
   "outputs": [],
   "source": [
    "liste = get_n_random_number(15,0,50)"
   ]
  },
  {
   "cell_type": "code",
   "execution_count": 9,
   "metadata": {},
   "outputs": [
    {
     "name": "stdout",
     "output_type": "stream",
     "text": [
      "[18, 41, 23, 22, 35, 49, 40, 40, 31, 18, 1, 22, 27, 6, 43]\n"
     ]
    }
   ],
   "source": [
    "print(liste)"
   ]
  },
  {
   "cell_type": "code",
   "execution_count": 7,
   "metadata": {},
   "outputs": [
    {
     "data": {
      "text/plain": [
       "[0, 2, 7, 11, 21, 26, 27, 30, 38, 38, 38, 44, 45, 47, 47]"
      ]
     },
     "execution_count": 7,
     "metadata": {},
     "output_type": "execute_result"
    }
   ],
   "source": [
    "sorted(liste)"
   ]
  },
  {
   "cell_type": "code",
   "execution_count": 16,
   "metadata": {},
   "outputs": [],
   "source": [
    "freq = my_frequency_with_dict(liste)"
   ]
  },
  {
   "cell_type": "code",
   "execution_count": 18,
   "metadata": {},
   "outputs": [
    {
     "name": "stdout",
     "output_type": "stream",
     "text": [
      "{18: 1}\n"
     ]
    }
   ],
   "source": [
    "print(freq)"
   ]
  },
  {
   "cell_type": "code",
   "execution_count": null,
   "metadata": {},
   "outputs": [],
   "source": []
  }
 ],
 "metadata": {
  "kernelspec": {
   "display_name": "Python 3",
   "language": "python",
   "name": "python3"
  },
  "language_info": {
   "codemirror_mode": {
    "name": "ipython",
    "version": 3
   },
   "file_extension": ".py",
   "mimetype": "text/x-python",
   "name": "python",
   "nbconvert_exporter": "python",
   "pygments_lexer": "ipython3",
   "version": "3.7.0"
  }
 },
 "nbformat": 4,
 "nbformat_minor": 2
}
