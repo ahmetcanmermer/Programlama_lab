{
 "cells": [
  {
   "cell_type": "code",
   "execution_count": 9,
   "metadata": {},
   "outputs": [
    {
     "name": "stdout",
     "output_type": "stream",
     "text": [
      "233168\n"
     ]
    }
   ],
   "source": [
    "toplam=0\n",
    "for i in range(0,1000):\n",
    "    if(i%3==0 or i%5==0):\n",
    "        toplam += i\n",
    "print(toplam)\n",
    "\n",
    "    "
   ]
  },
  {
   "cell_type": "code",
   "execution_count": 1,
   "metadata": {},
   "outputs": [
    {
     "data": {
      "text/plain": [
       "'-0b100'"
      ]
     },
     "execution_count": 1,
     "metadata": {},
     "output_type": "execute_result"
    }
   ],
   "source": [
    "bin(-4)"
   ]
  },
  {
   "cell_type": "code",
   "execution_count": 1,
   "metadata": {},
   "outputs": [
    {
     "name": "stdout",
     "output_type": "stream",
     "text": [
      "4613732\n"
     ]
    }
   ],
   "source": [
    "fib1 = 1\n",
    "fib2 = 1\n",
    "temp = fib2\n",
    "toplam = 0\n",
    "while(fib2<4000000):\n",
    "    temp = fib2\n",
    "    fib2 = fib2+fib1\n",
    "    fib1 = temp\n",
    "    if(fib2%2==0):\n",
    "        toplam += fib2\n",
    "print(toplam)"
   ]
  },
  {
   "cell_type": "code",
   "execution_count": 54,
   "metadata": {},
   "outputs": [
    {
     "name": "stdout",
     "output_type": "stream",
     "text": [
      "906609\n"
     ]
    }
   ],
   "source": [
    "def polindirik(sayi):\n",
    "    liste=[]\n",
    "    liste2=[]\n",
    "    i=0\n",
    "    temp = sayi\n",
    "    while(sayi>0):\n",
    "        liste.append(sayi%10)\n",
    "        liste2.append(sayi%10)\n",
    "        sayi = sayi//10\n",
    "        i += 1\n",
    "    liste.reverse()\n",
    "    for k in range(0,i):\n",
    "        if(liste[k]!=liste2[k]):\n",
    "            return 0\n",
    "    return temp\n",
    "max = 0\n",
    "for i in range(100,1000):\n",
    "    for k in range(100,1000):\n",
    "        deger = i*k\n",
    "        if(polindirik(deger)>max):\n",
    "            max = polindirik(deger)\n",
    "print(max)"
   ]
  },
  {
   "cell_type": "code",
   "execution_count": 2,
   "metadata": {},
   "outputs": [
    {
     "name": "stdout",
     "output_type": "stream",
     "text": [
      "2432902008176640000\n"
     ]
    }
   ],
   "source": [
    "sayi = 1\n",
    "for i in range(1,21):\n",
    "    sayi = i*sayi\n",
    "    min = sayi\n",
    "for i in range(1,21):\n",
    "    if(sayi%i!=0):\n",
    "        break\n",
    "    else:\n",
    "        if(sayi<min):\n",
    "            min = sayi\n",
    "print(min)"
   ]
  },
  {
   "cell_type": "code",
   "execution_count": null,
   "metadata": {},
   "outputs": [],
   "source": [
    "def isasal(sayi):\n",
    "    i=2\n",
    "    if(sayi==2):\n",
    "        return sayi\n",
    "    if(sayi%i==0):\n",
    "        return 0\n",
    "    temp = sayi**(1/2)\n",
    "    while(i<temp):\n",
    "        if(sayi%i==0):\n",
    "            return 0\n",
    "        i += 1\n",
    "    return sayi\n",
    "a = 0\n",
    "b = 2\n",
    "#print(isasal())\n",
    "while(a<=10001):\n",
    "    if(isasal(b)!=0):\n",
    "        a += 1\n",
    "    b += 2\n",
    "print(b)\n",
    "        "
   ]
  },
  {
   "cell_type": "code",
   "execution_count": null,
   "metadata": {},
   "outputs": [],
   "source": [
    "a=0\n",
    "i=1\n",
    "while(a<1000):\n",
    "    "
   ]
  },
  {
   "cell_type": "code",
   "execution_count": 3,
   "metadata": {},
   "outputs": [
    {
     "name": "stdout",
     "output_type": "stream",
     "text": [
      "0 : 2\n",
      "5 : 3\n",
      "25 : 1\n",
      "100 : 2\n",
      "5 : 3\n",
      "5 : 3\n",
      "0 : 2\n",
      "100 : 2\n"
     ]
    }
   ],
   "source": [
    "#liste içindeki bir değerin kaç defa tekrarlandığını bulan fonksiyon\n",
    "liste3 = [0,5,25,100,5,5,0,100]\n",
    "def say(liste):\n",
    "    index = 0\n",
    "    list1 = []\n",
    "    for i in liste:\n",
    "        \n",
    "        for k in liste:\n",
    "            if(i==k):\n",
    "                index = index + 1\n",
    "        if(list)\n",
    "        print(i,\":\",index)\n",
    "        index = 0 \n",
    "say(liste3)\n",
    "                "
   ]
  },
  {
   "cell_type": "code",
   "execution_count": 2,
   "metadata": {},
   "outputs": [
    {
     "name": "stdout",
     "output_type": "stream",
     "text": [
      "{0, 25, 100, 5}\n",
      "{1, 2, 3, 5, 7, 9}\n"
     ]
    }
   ],
   "source": [
    "liste = {0,5,25,100,5,5,0,100}\n",
    "liste2 = {1,2,3,7,9,5}\n",
    "print(liste)\n",
    "print(liste2)"
   ]
  },
  {
   "cell_type": "code",
   "execution_count": 28,
   "metadata": {},
   "outputs": [],
   "source": [
    "liste = [\"345\",\"sadas\",\"324a\",\"kemal\"]\n",
    "for i in liste:\n",
    "    "
   ]
  },
  {
   "cell_type": "code",
   "execution_count": 1,
   "metadata": {},
   "outputs": [],
   "source": [
    "import random"
   ]
  },
  {
   "cell_type": "code",
   "execution_count": 41,
   "metadata": {},
   "outputs": [
    {
     "name": "stdout",
     "output_type": "stream",
     "text": [
      "25\n"
     ]
    }
   ],
   "source": [
    "sayi = random.randint(1,50)\n",
    "print(sayi)"
   ]
  },
  {
   "cell_type": "code",
   "execution_count": 65,
   "metadata": {},
   "outputs": [
    {
     "data": {
      "text/plain": [
       "[79, 62, 50, 100, 52, 76, 50, 79, 88, 98]"
      ]
     },
     "execution_count": 65,
     "metadata": {},
     "output_type": "execute_result"
    }
   ],
   "source": [
    "def get_n_random_number(n,min_,max_):\n",
    "    numbers = []\n",
    "    for i in range(0,n):\n",
    "        numbers.append(random.randint(min_,max_))\n",
    "    return numbers\n",
    "get_n_random_number(10,50,100)\n"
   ]
  },
  {
   "cell_type": "code",
   "execution_count": null,
   "metadata": {},
   "outputs": [],
   "source": [
    "def my_frequency_with_dic(list):\n",
    "    frequency_dict = {}\n",
    "    for item in list:\n",
    "        if(item in frequency_dict):\n",
    "            frequency_dict[item] = frequency_dict[item]+1\n",
    "        else:\n",
    "            frequency_dict[item] = 1\n",
    "        return frequency_dict\n"
   ]
  },
  {
   "cell_type": "code",
   "execution_count": 66,
   "metadata": {},
   "outputs": [
    {
     "ename": "SyntaxError",
     "evalue": "unexpected EOF while parsing (<ipython-input-66-de3b1ea24596>, line 6)",
     "output_type": "error",
     "traceback": [
      "\u001b[1;36m  File \u001b[1;32m\"<ipython-input-66-de3b1ea24596>\"\u001b[1;36m, line \u001b[1;32m6\u001b[0m\n\u001b[1;33m    if(list_1(i)==liste[j][0]):\u001b[0m\n\u001b[1;37m                               ^\u001b[0m\n\u001b[1;31mSyntaxError\u001b[0m\u001b[1;31m:\u001b[0m unexpected EOF while parsing\n"
     ]
    }
   ],
   "source": [
    "def my_freauency_list_with_of_tuples(list_1):\n",
    "    liste = []\n",
    "    for i in range(len(list_1)):\n",
    "        s = False\n",
    "        for j in range(len(liste)):\n",
    "            if(list_1(i)==liste[j][0]):\n",
    "                liste[j][1] == liste[j][1]+1\n",
    "                s = True\n",
    "            if(s==False):\n",
    "                liste.append([list_1,1])\n",
    "    return liste\n"
   ]
  },
  {
   "cell_type": "code",
   "execution_count": null,
   "metadata": {},
   "outputs": [],
   "source": []
  }
 ],
 "metadata": {
  "kernelspec": {
   "display_name": "Python 3",
   "language": "python",
   "name": "python3"
  },
  "language_info": {
   "codemirror_mode": {
    "name": "ipython",
    "version": 3
   },
   "file_extension": ".py",
   "mimetype": "text/x-python",
   "name": "python",
   "nbconvert_exporter": "python",
   "pygments_lexer": "ipython3",
   "version": "3.7.0"
  }
 },
 "nbformat": 4,
 "nbformat_minor": 2
}
